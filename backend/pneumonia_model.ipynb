{
 "cells": [
  {
   "cell_type": "code",
   "execution_count": null,
   "id": "cee588d7",
   "metadata": {
    "scrolled": true
   },
   "outputs": [],
   "source": [
    "#!pip install tensorflow"
   ]
  },
  {
   "cell_type": "code",
   "execution_count": 93,
   "id": "f4f799b6",
   "metadata": {},
   "outputs": [
    {
     "name": "stdout",
     "output_type": "stream",
     "text": [
      "Done\n"
     ]
    }
   ],
   "source": [
    "import numpy as np\n",
    "import pandas as pd\n",
    "import matplotlib.pyplot as plt\n",
    "import tensorflow as tf\n",
    "from tensorflow.keras import layers\n",
    "import seaborn as sns\n",
    "from sklearn.metrics import confusion_matrix\n",
    "from tensorflow.keras.preprocessing import image\n",
    "print(\"Done\")"
   ]
  },
  {
   "cell_type": "code",
   "execution_count": null,
   "id": "fd716a9f",
   "metadata": {},
   "outputs": [],
   "source": [
    "train_directory = './chest_xray/train'\n",
    "val_directory = './chest_xray/val'\n",
    "test_directory = './chest_xray/test'"
   ]
  },
  {
   "cell_type": "code",
   "execution_count": 95,
   "id": "cf051562",
   "metadata": {},
   "outputs": [],
   "source": [
    "height = 224\n",
    "width = 224\n",
    "batch_size = 32"
   ]
  },
  {
   "cell_type": "code",
   "execution_count": 96,
   "id": "644282fc",
   "metadata": {},
   "outputs": [],
   "source": [
    "EPOCHS = 50"
   ]
  },
  {
   "cell_type": "code",
   "execution_count": 97,
   "id": "0794098a",
   "metadata": {},
   "outputs": [],
   "source": [
    "# data augmentation and preprocessing for the training set  \n",
    "train_data_generator = tf.keras.preprocessing.image.ImageDataGenerator(\n",
    "    rescale=1./255,\n",
    "    rotation_range=20,\n",
    "    brightness_range=(1.2, 1.5),\n",
    "    horizontal_flip=True\n",
    ")\n",
    "\n",
    "# preprocessing of the val set\n",
    "val_data_generator = tf.keras.preprocessing.image.ImageDataGenerator(\n",
    "    rescale=1./255\n",
    ")\n",
    "\n",
    "# preprocessing of the test set\n",
    "test_data_generator= tf.keras.preprocessing.image.ImageDataGenerator(\n",
    "    rescale=1./255\n",
    ")"
   ]
  },
  {
   "cell_type": "code",
   "execution_count": 98,
   "id": "6c0d848d",
   "metadata": {},
   "outputs": [
    {
     "name": "stdout",
     "output_type": "stream",
     "text": [
      "Found 5216 images belonging to 2 classes.\n",
      "Found 624 images belonging to 2 classes.\n",
      "Found 16 images belonging to 2 classes.\n"
     ]
    }
   ],
   "source": [
    "train_data = train_data_generator.flow_from_directory(\n",
    "    train_directory,\n",
    "    target_size=(height, width),\n",
    "    class_mode='binary',\n",
    "    batch_size=batch_size\n",
    ")\n",
    "\n",
    "\n",
    "test_data = train_data_generator.flow_from_directory(\n",
    "    test_directory,\n",
    "    target_size=(height, width),\n",
    "    class_mode='binary',\n",
    "    batch_size=batch_size\n",
    ")\n",
    "\n",
    "val_data = train_data_generator.flow_from_directory(\n",
    "    val_directory,\n",
    "    target_size=(height, width),\n",
    "    class_mode='binary',\n",
    "    batch_size=batch_size\n",
    ")"
   ]
  },
  {
   "cell_type": "code",
   "execution_count": 99,
   "id": "362d9b6e",
   "metadata": {},
   "outputs": [],
   "source": [
    "mobilenetv2 = tf.keras.applications.MobileNetV2(\n",
    "    input_shape=(height, width, 3),\n",
    "    include_top=False,\n",
    "    weights='imagenet',\n",
    "    pooling='avg'\n",
    ")"
   ]
  },
  {
   "cell_type": "code",
   "execution_count": 100,
   "id": "7faaadb8",
   "metadata": {},
   "outputs": [],
   "source": [
    "mobilenetv2.trainable = False"
   ]
  },
  {
   "cell_type": "code",
   "execution_count": 101,
   "id": "8bc9d862",
   "metadata": {
    "scrolled": true
   },
   "outputs": [],
   "source": [
    "inputs = tf.keras.Input(shape=(height, width, 3))\n",
    "pretrained_model = mobilenetv2(inputs, training=False)\n",
    "dense = tf.keras.layers.Dense(1024, activation='relu')(pretrained_model)\n",
    "outputs = tf.keras.layers.Dense(1, activation='sigmoid')(dense)\n",
    "model = tf.keras.Model(inputs, outputs)\n"
   ]
  },
  {
   "cell_type": "code",
   "execution_count": 102,
   "id": "e576ab09",
   "metadata": {},
   "outputs": [
    {
     "data": {
      "text/html": [
       "<pre style=\"white-space:pre;overflow-x:auto;line-height:normal;font-family:Menlo,'DejaVu Sans Mono',consolas,'Courier New',monospace\"><span style=\"font-weight: bold\">Model: \"functional_7\"</span>\n",
       "</pre>\n"
      ],
      "text/plain": [
       "\u001b[1mModel: \"functional_7\"\u001b[0m\n"
      ]
     },
     "metadata": {},
     "output_type": "display_data"
    },
    {
     "data": {
      "text/html": [
       "<pre style=\"white-space:pre;overflow-x:auto;line-height:normal;font-family:Menlo,'DejaVu Sans Mono',consolas,'Courier New',monospace\">┏━━━━━━━━━━━━━━━━━━━━━━━━━━━━━━━━━┳━━━━━━━━━━━━━━━━━━━━━━━━┳━━━━━━━━━━━━━━━┓\n",
       "┃<span style=\"font-weight: bold\"> Layer (type)                    </span>┃<span style=\"font-weight: bold\"> Output Shape           </span>┃<span style=\"font-weight: bold\">       Param # </span>┃\n",
       "┡━━━━━━━━━━━━━━━━━━━━━━━━━━━━━━━━━╇━━━━━━━━━━━━━━━━━━━━━━━━╇━━━━━━━━━━━━━━━┩\n",
       "│ input_layer_7 (<span style=\"color: #0087ff; text-decoration-color: #0087ff\">InputLayer</span>)      │ (<span style=\"color: #00d7ff; text-decoration-color: #00d7ff\">None</span>, <span style=\"color: #00af00; text-decoration-color: #00af00\">224</span>, <span style=\"color: #00af00; text-decoration-color: #00af00\">224</span>, <span style=\"color: #00af00; text-decoration-color: #00af00\">3</span>)    │             <span style=\"color: #00af00; text-decoration-color: #00af00\">0</span> │\n",
       "├─────────────────────────────────┼────────────────────────┼───────────────┤\n",
       "│ mobilenetv2_1.00_224            │ (<span style=\"color: #00d7ff; text-decoration-color: #00d7ff\">None</span>, <span style=\"color: #00af00; text-decoration-color: #00af00\">1280</span>)           │     <span style=\"color: #00af00; text-decoration-color: #00af00\">2,257,984</span> │\n",
       "│ (<span style=\"color: #0087ff; text-decoration-color: #0087ff\">Functional</span>)                    │                        │               │\n",
       "├─────────────────────────────────┼────────────────────────┼───────────────┤\n",
       "│ dense_6 (<span style=\"color: #0087ff; text-decoration-color: #0087ff\">Dense</span>)                 │ (<span style=\"color: #00d7ff; text-decoration-color: #00d7ff\">None</span>, <span style=\"color: #00af00; text-decoration-color: #00af00\">1024</span>)           │     <span style=\"color: #00af00; text-decoration-color: #00af00\">1,311,744</span> │\n",
       "├─────────────────────────────────┼────────────────────────┼───────────────┤\n",
       "│ dense_7 (<span style=\"color: #0087ff; text-decoration-color: #0087ff\">Dense</span>)                 │ (<span style=\"color: #00d7ff; text-decoration-color: #00d7ff\">None</span>, <span style=\"color: #00af00; text-decoration-color: #00af00\">1</span>)              │         <span style=\"color: #00af00; text-decoration-color: #00af00\">1,025</span> │\n",
       "└─────────────────────────────────┴────────────────────────┴───────────────┘\n",
       "</pre>\n"
      ],
      "text/plain": [
       "┏━━━━━━━━━━━━━━━━━━━━━━━━━━━━━━━━━┳━━━━━━━━━━━━━━━━━━━━━━━━┳━━━━━━━━━━━━━━━┓\n",
       "┃\u001b[1m \u001b[0m\u001b[1mLayer (type)                   \u001b[0m\u001b[1m \u001b[0m┃\u001b[1m \u001b[0m\u001b[1mOutput Shape          \u001b[0m\u001b[1m \u001b[0m┃\u001b[1m \u001b[0m\u001b[1m      Param #\u001b[0m\u001b[1m \u001b[0m┃\n",
       "┡━━━━━━━━━━━━━━━━━━━━━━━━━━━━━━━━━╇━━━━━━━━━━━━━━━━━━━━━━━━╇━━━━━━━━━━━━━━━┩\n",
       "│ input_layer_7 (\u001b[38;5;33mInputLayer\u001b[0m)      │ (\u001b[38;5;45mNone\u001b[0m, \u001b[38;5;34m224\u001b[0m, \u001b[38;5;34m224\u001b[0m, \u001b[38;5;34m3\u001b[0m)    │             \u001b[38;5;34m0\u001b[0m │\n",
       "├─────────────────────────────────┼────────────────────────┼───────────────┤\n",
       "│ mobilenetv2_1.00_224            │ (\u001b[38;5;45mNone\u001b[0m, \u001b[38;5;34m1280\u001b[0m)           │     \u001b[38;5;34m2,257,984\u001b[0m │\n",
       "│ (\u001b[38;5;33mFunctional\u001b[0m)                    │                        │               │\n",
       "├─────────────────────────────────┼────────────────────────┼───────────────┤\n",
       "│ dense_6 (\u001b[38;5;33mDense\u001b[0m)                 │ (\u001b[38;5;45mNone\u001b[0m, \u001b[38;5;34m1024\u001b[0m)           │     \u001b[38;5;34m1,311,744\u001b[0m │\n",
       "├─────────────────────────────────┼────────────────────────┼───────────────┤\n",
       "│ dense_7 (\u001b[38;5;33mDense\u001b[0m)                 │ (\u001b[38;5;45mNone\u001b[0m, \u001b[38;5;34m1\u001b[0m)              │         \u001b[38;5;34m1,025\u001b[0m │\n",
       "└─────────────────────────────────┴────────────────────────┴───────────────┘\n"
      ]
     },
     "metadata": {},
     "output_type": "display_data"
    },
    {
     "data": {
      "text/html": [
       "<pre style=\"white-space:pre;overflow-x:auto;line-height:normal;font-family:Menlo,'DejaVu Sans Mono',consolas,'Courier New',monospace\"><span style=\"font-weight: bold\"> Total params: </span><span style=\"color: #00af00; text-decoration-color: #00af00\">3,570,753</span> (13.62 MB)\n",
       "</pre>\n"
      ],
      "text/plain": [
       "\u001b[1m Total params: \u001b[0m\u001b[38;5;34m3,570,753\u001b[0m (13.62 MB)\n"
      ]
     },
     "metadata": {},
     "output_type": "display_data"
    },
    {
     "data": {
      "text/html": [
       "<pre style=\"white-space:pre;overflow-x:auto;line-height:normal;font-family:Menlo,'DejaVu Sans Mono',consolas,'Courier New',monospace\"><span style=\"font-weight: bold\"> Trainable params: </span><span style=\"color: #00af00; text-decoration-color: #00af00\">1,312,769</span> (5.01 MB)\n",
       "</pre>\n"
      ],
      "text/plain": [
       "\u001b[1m Trainable params: \u001b[0m\u001b[38;5;34m1,312,769\u001b[0m (5.01 MB)\n"
      ]
     },
     "metadata": {},
     "output_type": "display_data"
    },
    {
     "data": {
      "text/html": [
       "<pre style=\"white-space:pre;overflow-x:auto;line-height:normal;font-family:Menlo,'DejaVu Sans Mono',consolas,'Courier New',monospace\"><span style=\"font-weight: bold\"> Non-trainable params: </span><span style=\"color: #00af00; text-decoration-color: #00af00\">2,257,984</span> (8.61 MB)\n",
       "</pre>\n"
      ],
      "text/plain": [
       "\u001b[1m Non-trainable params: \u001b[0m\u001b[38;5;34m2,257,984\u001b[0m (8.61 MB)\n"
      ]
     },
     "metadata": {},
     "output_type": "display_data"
    }
   ],
   "source": [
    "model.summary()"
   ]
  },
  {
   "cell_type": "code",
   "execution_count": 103,
   "id": "04bf0494",
   "metadata": {},
   "outputs": [],
   "source": [
    "model.compile(\n",
    "    optimizer='adam',\n",
    "    loss='binary_crossentropy',\n",
    "    metrics=[\n",
    "        'accuracy',\n",
    "        tf.keras.metrics.AUC(name='auc')\n",
    "    ]\n",
    ")"
   ]
  },
  {
   "cell_type": "code",
   "execution_count": 104,
   "id": "581262ca",
   "metadata": {
    "scrolled": true
   },
   "outputs": [
    {
     "name": "stdout",
     "output_type": "stream",
     "text": [
      "Epoch 1/50\n",
      "\u001b[1m163/163\u001b[0m \u001b[32m━━━━━━━━━━━━━━━━━━━━\u001b[0m\u001b[37m\u001b[0m \u001b[1m135s\u001b[0m 778ms/step - accuracy: 0.8967 - auc: 0.9156 - loss: 0.3095 - val_accuracy: 0.9375 - val_auc: 0.9844 - val_loss: 0.2338\n",
      "Epoch 2/50\n",
      "\u001b[1m163/163\u001b[0m \u001b[32m━━━━━━━━━━━━━━━━━━━━\u001b[0m\u001b[37m\u001b[0m \u001b[1m130s\u001b[0m 769ms/step - accuracy: 0.9601 - auc: 0.9909 - loss: 0.1071 - val_accuracy: 0.6875 - val_auc: 0.9375 - val_loss: 0.6721\n",
      "Epoch 3/50\n",
      "\u001b[1m163/163\u001b[0m \u001b[32m━━━━━━━━━━━━━━━━━━━━\u001b[0m\u001b[37m\u001b[0m \u001b[1m140s\u001b[0m 831ms/step - accuracy: 0.9527 - auc: 0.9884 - loss: 0.1193 - val_accuracy: 0.8125 - val_auc: 0.9688 - val_loss: 0.3062\n",
      "Epoch 4/50\n",
      "\u001b[1m163/163\u001b[0m \u001b[32m━━━━━━━━━━━━━━━━━━━━\u001b[0m\u001b[37m\u001b[0m \u001b[1m132s\u001b[0m 785ms/step - accuracy: 0.9677 - auc: 0.9943 - loss: 0.0825 - val_accuracy: 0.6875 - val_auc: 0.9688 - val_loss: 0.8439\n"
     ]
    }
   ],
   "source": [
    "# training the model with early stopping to prevent overfitting\n",
    "history = model.fit(\n",
    "    train_data,\n",
    "    validation_data=val_data,\n",
    "    batch_size=batch_size,\n",
    "    epochs=EPOCHS,\n",
    "    callbacks=[\n",
    "        tf.keras.callbacks.EarlyStopping(\n",
    "            monitor='val_loss',\n",
    "            patience=3,\n",
    "            restore_best_weights=True\n",
    "        )\n",
    "    ]\n",
    ")"
   ]
  },
  {
   "cell_type": "code",
   "execution_count": 105,
   "id": "30c60b42",
   "metadata": {},
   "outputs": [
    {
     "name": "stdout",
     "output_type": "stream",
     "text": [
      "\u001b[1m20/20\u001b[0m \u001b[32m━━━━━━━━━━━━━━━━━━━━\u001b[0m\u001b[37m\u001b[0m \u001b[1m17s\u001b[0m 791ms/step\n"
     ]
    }
   ],
   "source": [
    "confusion_matrix = confusion_matrix(test_data.labels, np.squeeze(np.array(model.predict(test_data) >= 0.5, dtype=np.int64)))\n"
   ]
  },
  {
   "cell_type": "code",
   "execution_count": 106,
   "id": "3fdd3247",
   "metadata": {},
   "outputs": [
    {
     "data": {
      "image/png": "[encoded data removed]",
      "text/plain": [
       "<Figure size 800x800 with 2 Axes>"
      ]
     },
     "metadata": {},
     "output_type": "display_data"
    }
   ],
   "source": [
    "# plotting the confusion matrix\n",
    "plt.figure(figsize=(8, 8))\n",
    "sns.heatmap(confusion_matrix, annot=True, fmt='d', cmap='mako', cbar=True, linewidths=0.5, linecolor='black')\n",
    "plt.xlabel(\"Predicted Labels\", fontsize=14)\n",
    "plt.ylabel(\"True Labels\", fontsize=14)\n",
    "plt.xticks(np.arange(2) + 0.5, ['Healthy', 'Infected'], fontsize=12)\n",
    "plt.yticks(np.arange(2) + 0.5, ['Healthy', 'Infected'], fontsize=12)\n",
    "plt.title('Confusion Matrix', fontsize=16)\n",
    "plt.show()"
   ]
  },
  {
   "cell_type": "code",
   "execution_count": 107,
   "id": "e90e58e8",
   "metadata": {},
   "outputs": [
    {
     "name": "stdout",
     "output_type": "stream",
     "text": [
      "\u001b[1m20/20\u001b[0m \u001b[32m━━━━━━━━━━━━━━━━━━━━\u001b[0m\u001b[37m\u001b[0m \u001b[1m15s\u001b[0m 721ms/step - accuracy: 0.8606 - auc: 0.9491 - loss: 0.3526\n"
     ]
    }
   ],
   "source": [
    "evaluation_metrics = model.evaluate(test_data) \n",
    "# storing the evaluation metrics after evaluating the model using the test dataset"
   ]
  },
  {
   "cell_type": "code",
   "execution_count": 108,
   "id": "5ac5dd3d",
   "metadata": {
    "scrolled": false
   },
   "outputs": [
    {
     "name": "stdout",
     "output_type": "stream",
     "text": [
      "Accuracy: 0.87\n",
      "AUC: 0.95\n",
      "Precision: 0.62\n",
      "Recall: 0.71\n"
     ]
    }
   ],
   "source": [
    "accuracy = evaluation_metrics[1]\n",
    "auc = evaluation_metrics[2]\n",
    "\n",
    "tn, fp, fn, tp = confusion_matrix.ravel()\n",
    "precision = tp / (tp + fp)\n",
    "recall = tp / (tp + fn)\n",
    "\n",
    "print(\"Accuracy: {:.2f}\".format(accuracy))\n",
    "print(\"AUC: {:.2f}\".format(auc))\n",
    "print(\"Precision: {:.2f}\".format(precision))\n",
    "print(\"Recall: {:.2f}\".format(recall))"
   ]
  },
  {
   "cell_type": "code",
   "execution_count": null,
   "id": "b2971112",
   "metadata": {},
   "outputs": [],
   "source": [
    "# plotting these values "
   ]
  },
  {
   "cell_type": "code",
   "execution_count": 116,
   "id": "727bca24",
   "metadata": {},
   "outputs": [],
   "source": [
    "metrics_names = ['Accuracy', 'AUC', 'Precision', 'Recall']\n",
    "values = [accuracy, auc, precision, recall]"
   ]
  },
  {
   "cell_type": "code",
   "execution_count": 126,
   "id": "4ae37f69",
   "metadata": {
    "scrolled": true
   },
   "outputs": [
    {
     "data": {
      "image/png": "[encoded data removed]",
      "text/plain": [
       "<Figure size 1000x600 with 1 Axes>"
      ]
     },
     "metadata": {},
     "output_type": "display_data"
    }
   ],
   "source": [
    "# use a barplot to plot the metrics\n",
    "plt.figure(figsize=(10, 6))\n",
    "plt.bar(metrics_names, values, color=['violet', 'green', 'blue', 'orange'])\n",
    "plt.title('Model Evaluation Metrics')\n",
    "plt.xlabel('Metrics')\n",
    "plt.ylabel('Values')\n",
    "plt.ylim(0, 1) \n",
    "plt.show()"
   ]
  },
  {
   "cell_type": "code",
   "execution_count": 131,
   "id": "37e0a38c",
   "metadata": {},
   "outputs": [
    {
     "name": "stdout",
     "output_type": "stream",
     "text": [
      "\u001b[1m20/20\u001b[0m \u001b[32m━━━━━━━━━━━━━━━━━━━━\u001b[0m\u001b[37m\u001b[0m \u001b[1m14s\u001b[0m 698ms/step - accuracy: 0.8660 - auc: 0.9508 - loss: 0.3295\n"
     ]
    },
    {
     "data": {
      "text/plain": [
       "[0.34917151927948, 0.8685897588729858, 0.9477317333221436]"
      ]
     },
     "execution_count": 131,
     "metadata": {},
     "output_type": "execute_result"
    }
   ],
   "source": [
    "model.evaluate(test_data)"
   ]
  },
  {
   "cell_type": "code",
   "execution_count": null,
   "id": "45997d7c",
   "metadata": {
    "scrolled": true
   },
   "outputs": [],
   "source": [
    "# save model as a HDF5 file\n",
    "# model.save(\"\")  # between \"\", add the path to the folder you want to save the model in, choose a name for the model then add the extension .h5"
   ]
  },
  {
   "cell_type": "code",
   "execution_count": null,
   "id": "e4f98836",
   "metadata": {},
   "outputs": [],
   "source": [
    "# save model as a keras file (native Keras format)\n",
    "# model.save(\"\")  # between \"\", add the path to the folder you want to save the model in, choose a name for the model then add the extension .keras"
   ]
  },
  {
   "cell_type": "code",
   "execution_count": null,
   "id": "fb979280",
   "metadata": {},
   "outputs": [],
   "source": [
    "# the following cells contain ways to take different types of input data and make predictions based on them"
   ]
  },
  {
   "cell_type": "code",
   "execution_count": null,
   "id": "b23c8edd",
   "metadata": {},
   "outputs": [],
   "source": [
    "val_data.reset()\n",
    "\n",
    "filenames = val_data.filenames # filenames of the validation data\n",
    "num_samples = len(filenames)\n",
    "steps = int(np.ceil(num_samples / batch_size))\n",
    "\n",
    "\n",
    "predictions = model.predict(val_data, steps=steps) # predict the classes of the validaton data\n",
    "predicted_classes = (predictions > 0.5).astype(\"int32\") # converting predictions to class labels (0 or 1)\n",
    "\n",
    "# going through each file and checking the corrresponding prediction\n",
    "for i in range(num_samples):\n",
    "    print(f\"Filename: {filenames[i]}, Prediction: {predicted_classes[i][0]}\")\n"
   ]
  },
  {
   "cell_type": "code",
   "execution_count": 133,
   "id": "68228cdd",
   "metadata": {},
   "outputs": [
    {
     "name": "stdout",
     "output_type": "stream",
     "text": [
      "[0 0 0 0 0 0 0 0 1 1 1 1 1 1 1 1]\n"
     ]
    }
   ],
   "source": [
    "true_classes = val_data.classes\n",
    "print(true_classes)"
   ]
  },
  {
   "cell_type": "code",
   "execution_count": 134,
   "id": "5da4fe96",
   "metadata": {},
   "outputs": [],
   "source": [
    "def preprocess_image(img_path):\n",
    "    img = image.load_img(img_path, target_size=(height, width))\n",
    "    img_array = image.img_to_array(img)\n",
    "    img_array = img_array / 255.0\n",
    "    img_array = np.expand_dims(img_array, axis=0)\n",
    "    \n",
    "    return img_array"
   ]
  },
  {
   "cell_type": "code",
   "execution_count": null,
   "id": "e274233d",
   "metadata": {},
   "outputs": [
    {
     "name": "stdout",
     "output_type": "stream",
     "text": [
      "\u001b[1m1/1\u001b[0m \u001b[32m━━━━━━━━━━━━━━━━━━━━\u001b[0m\u001b[37m\u001b[0m \u001b[1m1s\u001b[0m 964ms/step\n",
      "Prediction: PNEUMONIA\n"
     ]
    }
   ],
   "source": [
    "# predicting an image from a folder \n",
    "# img_path = '' # introduce the path to the image here\n",
    "preprocessed_image = preprocess_image(img_path)\n",
    "prediction = model.predict(preprocessed_image)\n",
    "predicted_class = (prediction > 0.5).astype(\"int32\")[0][0]\n",
    "class_names = ['NORMAL', 'PNEUMONIA']\n",
    "predicted_class_name = class_names[predicted_class]\n",
    "\n",
    "print(f\"Prediction: {predicted_class_name}\")"
   ]
  },
  {
   "cell_type": "code",
   "execution_count": 136,
   "id": "c9394d10",
   "metadata": {},
   "outputs": [],
   "source": [
    "import os\n",
    "\n",
    "def predict_folder(folder_path): # predicts the class from each image from a given folder\n",
    "    class_names = ['NORMAL', 'PNEUMONIA']\n",
    "\n",
    "    for filename in os.listdir(folder_path):\n",
    "        if filename.lower().endswith(('.png', '.jpg', '.jpeg')):\n",
    "            img_path = os.path.join(folder_path, filename)\n",
    "            preprocessed_image = preprocess_image(img_path)\n",
    "            \n",
    "            # predicting the class of the image\n",
    "            prediction = model.predict(preprocessed_image)\n",
    "            predicted_class = (prediction > 0.5).astype(\"int32\")[0][0]\n",
    "            predicted_class_name = class_names[predicted_class]\n",
    "            \n",
    "            print(f\"Filename: {filename}, Prediction: {predicted_class_name}\")\n"
   ]
  }
 ],
 "metadata": {
  "kernelspec": {
   "display_name": "Python 3 (ipykernel)",
   "language": "python",
   "name": "python3"
  },
  "language_info": {
   "codemirror_mode": {
    "name": "ipython",
    "version": 3
   },
   "file_extension": ".py",
   "mimetype": "text/x-python",
   "name": "python",
   "nbconvert_exporter": "python",
   "pygments_lexer": "ipython3",
   "version": "3.9.13"
  }
 },
 "nbformat": 4,
 "nbformat_minor": 5
}
